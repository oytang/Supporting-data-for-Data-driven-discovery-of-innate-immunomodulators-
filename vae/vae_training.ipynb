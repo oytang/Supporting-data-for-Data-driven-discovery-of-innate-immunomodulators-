{
 "cells": [
  {
   "cell_type": "code",
   "execution_count": null,
   "metadata": {},
   "outputs": [],
   "source": [
    "import os, sys, time\n",
    "import json\n",
    "import numpy as np\n",
    "import torch\n",
    "import pandas as pd\n",
    "import selfies\n",
    "from torch import nn\n",
    "torch.backends.cudnn.benchmark = True\n",
    "\n",
    "from utils import model_dir\n",
    "from VAE import VAE_encode, VAE_decode\n",
    "from train import train_model"
   ]
  },
  {
   "cell_type": "code",
   "execution_count": null,
   "metadata": {
    "tags": []
   },
   "outputs": [],
   "source": [
    "path = '../Comp_Lib/'\n",
    "print(model_dir)\n",
    "os.makedirs(model_dir)"
   ]
  },
  {
   "cell_type": "code",
   "execution_count": null,
   "metadata": {},
   "outputs": [],
   "source": [
    "# hyperparameters\n",
    "\n",
    "warm_start = True\n",
    "\n",
    "latent_dimension = 100\n",
    "\n",
    "settings = {'encoder':  {'layer_1d': 500,\n",
    "                         'layer_2d': 200,\n",
    "                         'layer_3d': 100,\n",
    "                         'latent_dimension': latent_dimension},\n",
    "            'decoder':  {'latent_dimension': latent_dimension,\n",
    "                         'gru_neurons_num': 200,\n",
    "                         'gru_stack_size': 3},\n",
    "            'training': {'batch_size': 2500,\n",
    "                         'latent_dimension': latent_dimension,\n",
    "                         'KLD_alpha': 0.0001,\n",
    "                         'lr_enc': 0.0001,\n",
    "                         'lr_dec': 0.0001,\n",
    "                         'num_epochs': 2000}\n",
    "           }"
   ]
  },
  {
   "cell_type": "code",
   "execution_count": null,
   "metadata": {
    "tags": []
   },
   "outputs": [],
   "source": [
    "# Read compound library information\n",
    "\n",
    "data = np.load(path + '0.npy')\n",
    "\n",
    "len_max_molec = data.shape[0]\n",
    "len_alphabet = data.shape[1]\n",
    "len_max_molec1Hot = len_max_molec * len_alphabet\n",
    "\n",
    "encoder_parameter = settings['encoder']\n",
    "decoder_parameter = settings['decoder']\n",
    "training_parameters = settings['training']"
   ]
  },
  {
   "cell_type": "code",
   "execution_count": null,
   "metadata": {
    "tags": []
   },
   "outputs": [],
   "source": [
    "device = torch.device(\"cuda\" if torch.cuda.is_available() else \"cpu\")\n",
    "print('-->' + str(device))\n",
    "\n",
    "model_encode = VAE_encode(len_max_molec1Hot, **encoder_parameter).to(device)\n",
    "model_decode = VAE_decode(len_alphabet, **decoder_parameter).to(device)\n",
    "\n",
    "if warm_start:\n",
    "\n",
    "    # warm start\n",
    "\n",
    "    warm_path = './Models/2020-09-17 17-01-39'\n",
    "    warm_epoch = 5500\n",
    "    warm_model = os.path.join(warm_path, 'Epochs:', str(warm_epoch))\n",
    "\n",
    "    encoder_state = torch.load(os.path.join(warm_model, 'encode.tar'))\n",
    "    decoder_state = torch.load(os.path.join(warm_model, 'decode.tar'))\n",
    "\n",
    "    model_encode.load_state_dict(encoder_state['state_dict'])\n",
    "    model_decode.load_state_dict(decoder_state['state_dict'])\n",
    "\n",
    "    model_encode.to(device)\n",
    "    model_decode.to(device)\n",
    "\n",
    "else:\n",
    "\n",
    "    # cool start\n",
    "    \n",
    "    warm_epoch = None"
   ]
  },
  {
   "cell_type": "code",
   "execution_count": null,
   "metadata": {
    "tags": [
     "outputPrepend"
    ]
   },
   "outputs": [],
   "source": [
    "# train the model\n",
    "\n",
    "model_encode.train()\n",
    "model_decode.train()\n",
    "\n",
    "models = [model_encode, model_decode]\n",
    "\n",
    "#idx = list(range(10000))\n",
    "idx = list(range(1248664))\n",
    "np.random.shuffle(idx)\n",
    "\n",
    "file = json.dumps(settings)\n",
    "with open(model_dir + '/settings.json', 'w') as content:\n",
    "    content.write(file)\n",
    "\n",
    "print(\"start training\")\n",
    "with open(model_dir + '/training_log.txt', 'w') as content:\n",
    "    content.write(\"start training\" + \"\\n\")\n",
    "    \n",
    "modules = [models, idx, path, device, warm_epoch]\n",
    "train_model(*modules, **training_parameters)\n",
    "\n",
    "with open(model_dir + '/COMPLETED.txt', 'w') as content:\n",
    "    content.write('exit code: 0')"
   ]
  },
  {
   "cell_type": "code",
   "execution_count": null,
   "metadata": {},
   "outputs": [],
   "source": []
  }
 ],
 "metadata": {
  "file_extension": ".py",
  "kernelspec": {
   "display_name": "Python 3",
   "language": "python",
   "name": "python3"
  },
  "language_info": {
   "codemirror_mode": {
    "name": "ipython",
    "version": 3
   },
   "file_extension": ".py",
   "mimetype": "text/x-python",
   "name": "python",
   "nbconvert_exporter": "python",
   "pygments_lexer": "ipython3",
   "version": "3.7.6-final"
  },
  "mimetype": "text/x-python",
  "name": "python",
  "npconvert_exporter": "python",
  "pygments_lexer": "ipython3",
  "version": 3
 },
 "nbformat": 4,
 "nbformat_minor": 2
}
