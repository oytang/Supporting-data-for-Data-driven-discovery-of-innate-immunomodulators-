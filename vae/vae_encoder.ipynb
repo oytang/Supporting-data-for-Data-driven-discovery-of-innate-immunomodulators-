{
 "cells": [
  {
   "cell_type": "code",
   "execution_count": 1,
   "metadata": {},
   "outputs": [],
   "source": [
    "import numpy as np\n",
    "import matplotlib.pyplot as plt\n",
    "import torch\n",
    "torch.backends.cudnn.benchmark = True\n",
    "import selfies\n",
    "import json\n",
    "import os\n",
    "import pandas as pd\n",
    "from tqdm import tqdm\n",
    "\n",
    "from VAE import VAE_encode, VAE_decode"
   ]
  },
  {
   "cell_type": "code",
   "execution_count": 2,
   "metadata": {},
   "outputs": [],
   "source": [
    "one_hot_path = '../csc-one-hot'"
   ]
  },
  {
   "cell_type": "code",
   "execution_count": 3,
   "metadata": {},
   "outputs": [
    {
     "output_type": "stream",
     "name": "stdout",
     "text": [
      "cuda\nmodel ready!\n"
     ]
    }
   ],
   "source": [
    "# load model parameters\n",
    "with open('BO_use/settings.json') as f:\n",
    "  settings = json.load(f)\n",
    "\n",
    "encoder_parameter = settings['encoder']\n",
    "latent_dimension = settings['training']['latent_dimension']\n",
    "\n",
    "# load an instance to determine SELFIES-relaterd parameters\n",
    "data = np.load(os.path.join(one_hot_path, '0.npy'))\n",
    "\n",
    "len_max_molec = data.shape[0]\n",
    "len_alphabet = data.shape[1]\n",
    "len_max_molec1Hot = len_max_molec * len_alphabet\n",
    "\n",
    "model_encode = VAE_encode(len_max_molec1Hot, **encoder_parameter)\n",
    "\n",
    "epoch =  9032\n",
    "\n",
    "encoder_state = torch.load('BO_use/%d/encode.tar' % epoch)\n",
    "\n",
    "model_encode.load_state_dict(encoder_state['state_dict'])\n",
    "\n",
    "model_encode.eval()\n",
    "\n",
    "device = torch.device(\"cuda\" if torch.cuda.is_available() else \"cpu\")\n",
    "print(device)\n",
    "\n",
    "model_encode.to(device)\n",
    "\n",
    "print('model ready!')"
   ]
  },
  {
   "cell_type": "code",
   "execution_count": 4,
   "metadata": {
    "tags": []
   },
   "outputs": [
    {
     "output_type": "stream",
     "name": "stderr",
     "text": [
      "100%|██████████| 74/74 [00:36<00:00,  2.01it/s]\n"
     ]
    }
   ],
   "source": [
    "# csc compound number: 147428\n",
    "idx_list = np.arange(147428)\n",
    "batch_size = 2000\n",
    "latent_space= []\n",
    "num_batches = int(len(idx_list) / batch_size) + 1\n",
    "\n",
    "for batch_iteration in tqdm(range(num_batches)):\n",
    "\n",
    "    current_idx_start = batch_iteration * batch_size\n",
    "    current_idx_stop = (batch_iteration + 1) * batch_size\n",
    "    if batch_iteration < num_batches - 1:\n",
    "        idx_smile_hot = idx_list[current_idx_start: current_idx_stop]\n",
    "    else:\n",
    "        idx_smile_hot = idx_list[current_idx_start:]\n",
    "\n",
    "    inp_smile_hot = np.array([np.load(os.path.join(one_hot_path, '{}.npy'.format(idx))) for idx in idx_smile_hot])\n",
    "    inp_smile_hot = torch.tensor(inp_smile_hot, dtype=torch.float).to(device)\n",
    "\n",
    "    inp_smile_encode = inp_smile_hot.reshape(inp_smile_hot.shape[0],\n",
    "                                             inp_smile_hot.shape[1] * inp_smile_hot.shape[2])\n",
    "    \n",
    "    latent_points, mus, log_vars = model_encode(inp_smile_encode)\n",
    "    latent_space.append(latent_points.cpu().detach().numpy())\n",
    "\n",
    "latent_space = np.concatenate(latent_space)"
   ]
  },
  {
   "cell_type": "code",
   "execution_count": 5,
   "metadata": {},
   "outputs": [
    {
     "output_type": "execute_result",
     "data": {
      "text/plain": [
       "(147428, 100)"
      ]
     },
     "metadata": {},
     "execution_count": 5
    }
   ],
   "source": [
    "latent_space.shape"
   ]
  },
  {
   "cell_type": "code",
   "execution_count": 6,
   "metadata": {},
   "outputs": [],
   "source": [
    "np.save('csc-latent-vecs.npy', latent_space)"
   ]
  },
  {
   "cell_type": "code",
   "execution_count": null,
   "metadata": {},
   "outputs": [],
   "source": []
  }
 ],
 "metadata": {
  "kernelspec": {
   "display_name": "Python 3",
   "language": "python",
   "name": "python3"
  },
  "language_info": {
   "codemirror_mode": {
    "name": "ipython",
    "version": 3
   },
   "file_extension": ".py",
   "mimetype": "text/x-python",
   "name": "python",
   "nbconvert_exporter": "python",
   "pygments_lexer": "ipython3",
   "version": "3.7.8-final"
  }
 },
 "nbformat": 4,
 "nbformat_minor": 4
}